{
 "cells": [
  {
   "cell_type": "code",
   "execution_count": 3,
   "metadata": {},
   "outputs": [
    {
     "name": "stdout",
     "output_type": "stream",
     "text": [
      "곱셈 결과 :  6\n",
      "거듭제곱 결과 :  8\n"
     ]
    }
   ],
   "source": [
    "\"\"\"\n",
    "파이썬에서 Asterisk(*) 의 사용방법\n",
    "\n",
    "1. 곱셈 및 거듭제곱 연산\n",
    "2. 리스트형 컨테이너 타입의 데이터를 반복 확장\n",
    "3. 가변인자 (Variadic Arguments)를 사용\n",
    "4. 컨테이너 타입의 데이터를 Unpacking\n",
    "\"\"\"\n",
    "\n",
    "\"\"\"\n",
    "1. 곱셈 및 거듭제곱 연산\n",
    "\"\"\"\n",
    "\n",
    "print(\"곱셈 결과 : \", str(2 * 3)) \n",
    "print(\"거듭제곱 결과 : \", str(2 ** 3))"
   ]
  },
  {
   "cell_type": "code",
   "execution_count": 11,
   "metadata": {},
   "outputs": [
    {
     "name": "stdout",
     "output_type": "stream",
     "text": [
      "------------------------------------------------------------\n",
      "zeros_list :  [0, 0, 0, 0, 0, 0, 0, 0, 0, 0, 0, 0, 0, 0, 0, 0, 0, 0, 0, 0, 0, 0, 0, 0, 0, 0, 0, 0, 0, 0, 0, 0, 0, 0, 0, 0, 0, 0, 0, 0, 0, 0, 0, 0, 0, 0, 0, 0, 0, 0, 0, 0, 0, 0, 0, 0, 0, 0, 0, 0, 0, 0, 0, 0, 0, 0, 0, 0, 0, 0, 0, 0, 0, 0, 0, 0, 0, 0, 0, 0, 0, 0, 0, 0, 0, 0, 0, 0, 0, 0, 0, 0, 0, 0, 0, 0, 0, 0, 0, 0]\n",
      "\n",
      "------------------------------------------------------------\n",
      "zeros_tuple :  (0, 0, 0, 0, 0, 0, 0, 0, 0, 0, 0, 0, 0, 0, 0, 0, 0, 0, 0, 0, 0, 0, 0, 0, 0, 0, 0, 0, 0, 0, 0, 0, 0, 0, 0, 0, 0, 0, 0, 0, 0, 0, 0, 0, 0, 0, 0, 0, 0, 0, 0, 0, 0, 0, 0, 0, 0, 0, 0, 0, 0, 0, 0, 0, 0, 0, 0, 0, 0, 0, 0, 0, 0, 0, 0, 0, 0, 0, 0, 0, 0, 0, 0, 0, 0, 0, 0, 0, 0, 0, 0, 0, 0, 0, 0, 0, 0, 0, 0, 0)\n",
      "\n",
      "------------------------------------------------------------\n",
      "1 scalar product of vector: [1, 2, 3]\n",
      "2 scalar product of vector: [2, 4, 6]\n",
      "3 scalar product of vector: [3, 6, 9]\n"
     ]
    }
   ],
   "source": [
    "\"\"\"\n",
    "2. 리스트형 컨테이너 타입의 데이터를 반복 확장\n",
    "\"\"\"\n",
    "\n",
    "print('---'*20)\n",
    "\n",
    "# 길이 100 의 제로값 리스트 초기화\n",
    "zeros_list = [0] * 100 \n",
    "print(\"zeros_list : \", zeros_list)\n",
    "print()\n",
    "print('---'*20)\n",
    "\n",
    "# 길이 100의 제로값 튜플 선언\n",
    "zeros_tuple = (0, ) * 100\n",
    "print(\"zeros_tuple : \", zeros_tuple)\n",
    "print()\n",
    "print('---'*20)\n",
    "\n",
    "# 리스트 3배 확장 후 연산\n",
    "vector_list = [[1,2,3]]\n",
    "\n",
    "for i, vector in enumerate(vector_list * 3):\n",
    "    print(\"{0} scalar product of vector: {1}\".format((i+1), [(i+1) * e for e in vector]))"
   ]
  },
  {
   "cell_type": "code",
   "execution_count": 22,
   "metadata": {},
   "outputs": [
    {
     "name": "stdout",
     "output_type": "stream",
     "text": [
      "{1: 'ming', 2: 'alice', 3: 'Nobody', 4: 'Nobody'}\n",
      "{1: 'alick', 2: 'm', 3: 'mki', 4: 'Nobody'}\n",
      "{1: 'alice', 2: 'ming', 3: 'mike', 4: 'jim'}\n",
      "------------------------------------------------------------\n",
      "index or positional 형태의 파라미터\n",
      "('ming', 'alice', 'tom', 'wilson', 'roy')\n",
      "\n",
      "------------------------------------------------------------\n",
      "keyword 형태의 파라미터\n",
      "{'first': 'ming', 'second': 'alice', 'fourth': 'wilson', 'third': 'tom', 'fifth': 'roy'}\n",
      "------------------------------------------------------------\n",
      "keyword와 index가 결합된 형태의 파라미터\n",
      "('aa', 'bb', 'cc')\n",
      "{'fourth': 'four', 'fifth': 'five'}\n"
     ]
    }
   ],
   "source": [
    "\"\"\"\n",
    "3. 가변인자 (Variadic Arguments)를 사용\n",
    "\"\"\"\n",
    "\n",
    "# 2~4명의 주자로 이루어진 달리기 대회 랭킹을 보여주는 함수\n",
    "# arguments 의 기본적 사용\n",
    "def save_ranking(first, second, third=None, fourth=None):\n",
    "    rank = {}\n",
    "    rank[1], rank[2] = first, second\n",
    "    rank[3] = third if third is not None else 'Nobody'\n",
    "    rank[4] = fourth if fourth is not None else 'Nobody'\n",
    "    print(rank)\n",
    "    \n",
    "# positional arguments 2개 전달    \n",
    "save_ranking('ming', 'alice')\n",
    "\n",
    "# positional arguments 2개와 keyword argument 1개 전달\n",
    "save_ranking('alick', 'm', third='mki')\n",
    "\n",
    "# positional arguments 2개와 keyword arguments 2개 전달 (단, 하나는 positional argument 형태로 전달)\n",
    "save_ranking('alice', 'ming', 'mike', fourth='jim')\n",
    "\n",
    "\n",
    "# 가변인자 사용\n",
    "def save_ranking_2(*args): # positional arguments 만 받을 경우\n",
    "    print(args)\n",
    "    \n",
    "print('---' * 20)\n",
    "print('index or positional 형태의 파라미터')\n",
    "save_ranking_2('ming', 'alice', 'tom', 'wilson', 'roy')\n",
    "\n",
    "print()\n",
    "\n",
    "def save_ranking_3(**args): # keyword arguments 만 받을 경우\n",
    "    print(args)\n",
    "    \n",
    "print('---' * 20)\n",
    "print('keyword 형태의 파라미터')\n",
    "save_ranking_3(first='ming', second='alice', fourth='wilson', third='tom', fifth='roy')\n",
    "\n",
    "\n",
    "def save_ranking_4(*args, **keyw):\n",
    "    print(args)\n",
    "    print(keyw)\n",
    "\n",
    "print('---' * 20)\n",
    "print('keyword와 index가 결합된 형태의 파라미터')    \n",
    "save_ranking_4('aa', 'bb', 'cc', fourth='four', fifth='five')"
   ]
  },
  {
   "cell_type": "code",
   "execution_count": 28,
   "metadata": {},
   "outputs": [
    {
     "name": "stdout",
     "output_type": "stream",
     "text": [
      "product(*primes)) :  30030\n",
      "product(primes)   :  [2, 3, 5, 7, 11, 13]\n"
     ]
    }
   ],
   "source": [
    "\"\"\"\n",
    "4. 컨테이너 타입의 데이터를 Unpacking\n",
    "\"\"\"\n",
    "\n",
    "from functools import reduce\n",
    "\n",
    "primes = [2,3,5,7,11,13]\n",
    "\n",
    "def product(*numbers):\n",
    "    p = reduce(lambda x, y: x * y, numbers)\n",
    "    return p\n",
    "\n",
    "print(\"product(*primes)) : \",str(product(*primes)))\n",
    "\n",
    "print(\"product(primes)   : \",product(primes))"
   ]
  },
  {
   "cell_type": "code",
   "execution_count": null,
   "metadata": {},
   "outputs": [],
   "source": []
  }
 ],
 "metadata": {
  "kernelspec": {
   "display_name": "Python 3",
   "language": "python",
   "name": "python3"
  },
  "language_info": {
   "codemirror_mode": {
    "name": "ipython",
    "version": 3
   },
   "file_extension": ".py",
   "mimetype": "text/x-python",
   "name": "python",
   "nbconvert_exporter": "python",
   "pygments_lexer": "ipython3",
   "version": "3.7.6"
  }
 },
 "nbformat": 4,
 "nbformat_minor": 4
}
