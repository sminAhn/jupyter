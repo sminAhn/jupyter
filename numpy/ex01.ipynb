{
 "cells": [
  {
   "cell_type": "code",
   "execution_count": 1,
   "metadata": {},
   "outputs": [],
   "source": [
    "import numpy as np"
   ]
  },
  {
   "cell_type": "code",
   "execution_count": 3,
   "metadata": {},
   "outputs": [
    {
     "data": {
      "text/plain": [
       "\u001b[1;31mDocstring:\u001b[0m\n",
       "print(value, ..., sep=' ', end='\\n', file=sys.stdout, flush=False)\n",
       "\n",
       "Prints the values to a stream, or to sys.stdout by default.\n",
       "Optional keyword arguments:\n",
       "file:  a file-like object (stream); defaults to the current sys.stdout.\n",
       "sep:   string inserted between values, default a space.\n",
       "end:   string appended after the last value, default a newline.\n",
       "flush: whether to forcibly flush the stream.\n",
       "\u001b[1;31mType:\u001b[0m      builtin_function_or_method\n"
      ]
     },
     "metadata": {},
     "output_type": "display_data"
    }
   ],
   "source": [
    "\"\"\"\n",
    "자기관찰(instropection)\n",
    " - 객체가 함수이거나 인스턴스 메서드라면 정의되어있는 문서(docstring) 을 출력해준다.\n",
    "\"\"\"\n",
    "# instropection example\n",
    "print?\n",
    "\n",
    "# 물음표 2개를 붙일경우 사용 가능한 소스코드를 보여준다."
   ]
  },
  {
   "cell_type": "code",
   "execution_count": 9,
   "metadata": {},
   "outputs": [
    {
     "data": {
      "text/plain": [
       "np.__loader__\n",
       "np.load\n",
       "np.loads\n",
       "np.loadtxt"
      ]
     },
     "metadata": {},
     "output_type": "display_data"
    }
   ],
   "source": [
    "import numpy as np\n",
    "\n",
    "# 네임스페이스를 검색하는데 사용할 수 있다.\n",
    "np.*load*?\n"
   ]
  },
  {
   "cell_type": "code",
   "execution_count": 13,
   "metadata": {},
   "outputs": [
    {
     "name": "stdout",
     "output_type": "stream",
     "text": [
      "1.4666666666666666\n",
      "1.5714285714285714\n",
      "5\n"
     ]
    }
   ],
   "source": [
    "\"\"\"\n",
    "%run 명령어는 IPython 세션안에서 파이썬 프로그램 파일을 불러와서 실행할 수 있다.\n",
    "\"\"\"\n",
    "\n",
    "\"\"\"\n",
    " -- ipython_script_test.py 소스코드\n",
    "def f(x,y,z):\n",
    "    return (x+y)/z\n",
    "\n",
    "a=5\n",
    "b=6\n",
    "c=7.5\n",
    "\n",
    "result = f(a,b,c)\n",
    "print(result)\n",
    "\"\"\"\n",
    "\n",
    "%run ipython_script_test.py\n",
    "\n",
    "external = f(5,6,7)\n",
    "print(external)\n",
    "\n",
    "print(a)"
   ]
  },
  {
   "cell_type": "code",
   "execution_count": 19,
   "metadata": {},
   "outputs": [
    {
     "name": "stdout",
     "output_type": "stream",
     "text": [
      "Wall time: 32 ms\n",
      "Wall time: 907 ms\n"
     ]
    }
   ],
   "source": [
    "import numpy as np\n",
    "\n",
    "\"\"\"\n",
    "numpy와 Python 기본 함수 속도 측정\n",
    "\"\"\"\n",
    "\n",
    "# NumPy 에서 제공되는 배열\n",
    "my_arr = np.arange(1000000)\n",
    "\n",
    "# Python 리스트\n",
    "my_list = list(range(1000000))\n",
    "\n",
    "# 각 리스트 원소에 2를 곱한다.\n",
    "%time for _ in range(10): my_arr2 = my_arr*2\n",
    "\n",
    "# 각 리스트 원소에 2를 곱한다.\n",
    "%time for _ in range(10): my_list2 = [x * 2 for x in my_list]"
   ]
  },
  {
   "cell_type": "code",
   "execution_count": 23,
   "metadata": {},
   "outputs": [
    {
     "name": "stdout",
     "output_type": "stream",
     "text": [
      "[[-2.11583949 -0.84194109  1.4487259 ]\n",
      " [ 1.51466148  1.2599737   1.23019899]]\n",
      "\n",
      "data 객체에 10을 곱할경우\n",
      "[[-21.15839494  -8.41941086  14.48725904]\n",
      " [ 15.14661484  12.59973703  12.30198986]]\n",
      "\n",
      "data 객체끼리 더할경우\n",
      "[[-4.23167899 -1.68388217  2.89745181]\n",
      " [ 3.02932297  2.51994741  2.46039797]]\n"
     ]
    }
   ],
   "source": [
    "\"\"\"\n",
    " 다차원 배열 객체\n",
    "\"\"\"\n",
    "\n",
    "import numpy as np\n",
    "\n",
    "data = np.random.randn(2,3) # 2 Row, 3 Column 배열 객체 생성\n",
    "print(data)\n",
    "print()\n",
    "print(\"data 객체에 10을 곱할경우\")\n",
    "print(data * 10) # 각 원소에 10을 곱하여 반환한다.\n",
    "print()\n",
    "print(\"data 객체끼리 더할경우\")\n",
    "print(data + data)\n"
   ]
  },
  {
   "cell_type": "code",
   "execution_count": 27,
   "metadata": {},
   "outputs": [
    {
     "name": "stdout",
     "output_type": "stream",
     "text": [
      "------------------------------------------------------------\n",
      "(2, 3)\n",
      "------------------------------------------------------------\n",
      "float64\n"
     ]
    }
   ],
   "source": [
    "\"\"\"\n",
    "모든 배열은 각 차원의 크기를 알려주는 \n",
    "shape 라는 튜플과 배열에 저장된 자료형을 알려주는 \n",
    "dtype 객체를 가진다.\n",
    "\"\"\"\n",
    "print('---'*20)\n",
    "print(data.shape) # 튜플형태로 차원의 크기를 반환한다.\n",
    "print('---'*20)\n",
    "print(data.dtype)"
   ]
  },
  {
   "cell_type": "code",
   "execution_count": 37,
   "metadata": {},
   "outputs": [
    {
     "name": "stdout",
     "output_type": "stream",
     "text": [
      "리스트 to ndarray \n",
      " [6.  7.5 8.  0.  1. ]\n",
      "\n",
      "다차원 배열 to ndarray \n",
      " [[1 2 3 4]\n",
      " [5 6 7 8]]\n",
      "dimension :  2\n",
      "shape     :  (2, 4)\n"
     ]
    }
   ],
   "source": [
    "\"\"\"\n",
    "ndarray의 모든 원소는 같은 자료형이어야 한다.\n",
    "\"\"\"\n",
    "\n",
    "# ndarray 생성\n",
    "data1 = [6,7.5,8,0,1]\n",
    "arr1  = np.array(data1)\n",
    "\n",
    "print(\"리스트 to ndarray \\n\",arr1)\n",
    "print()\n",
    "\n",
    "data2 = [[1,2,3,4],[5,6,7,8]]\n",
    "arr2  = np.array(data2)\n",
    "print(\"다차원 배열 to ndarray \\n\",arr2)\n",
    "\n",
    "print(\"dimension : \",arr2.ndim)  # 차수, 차원의 수 dimension\n",
    "print(\"shape     : \",arr2.shape) # 행렬 "
   ]
  },
  {
   "cell_type": "code",
   "execution_count": 45,
   "metadata": {},
   "outputs": [
    {
     "name": "stdout",
     "output_type": "stream",
     "text": [
      "[0. 0. 0. 0. 0. 0. 0. 0. 0. 0.]\n",
      "------------------------------------------------------------\n",
      "[[0. 0.]\n",
      " [0. 0.]\n",
      " [0. 0.]\n",
      " [0. 0.]\n",
      " [0. 0.]\n",
      " [0. 0.]\n",
      " [0. 0.]\n",
      " [0. 0.]\n",
      " [0. 0.]\n",
      " [0. 0.]]\n",
      "------------------------------------------------------------\n",
      "[ 0  1  2  3  4  5  6  7  8  9 10 11 12 13 14]\n"
     ]
    }
   ],
   "source": [
    "\"\"\"\n",
    "ndarray 초기화\n",
    "\"\"\"\n",
    "\n",
    "_zeros = np.zeros(10) # 0으로 초기화된 배열\n",
    "print(_zeros) \n",
    "print(\"---\" * 20)\n",
    "# Row 을 10개 가지며 Column 을 2개 가지는 배열\n",
    "_zeros_2 = np.zeros((10, 2))  \n",
    "print(_zeros_2)\n",
    "\n",
    "print(\"---\"*20)\n",
    "\n",
    "_np_arange = np.arange(15)\n",
    "print(_np_arange)"
   ]
  },
  {
   "cell_type": "code",
   "execution_count": 54,
   "metadata": {},
   "outputs": [
    {
     "name": "stdout",
     "output_type": "stream",
     "text": [
      "[[1. 2. 3.]\n",
      " [4. 5. 6.]]\n",
      "------------------------------------------------------------\n",
      "[[ 1.  4.  9.]\n",
      " [16. 25. 36.]]\n",
      "------------------------------------------------------------\n",
      "[[ 2.  4.  6.]\n",
      " [ 8. 10. 12.]]\n",
      "------------------------------------------------------------\n",
      "[[0. 0. 0.]\n",
      " [0. 0. 0.]]\n",
      "------------------------------------------------------------\n",
      "[[1.         0.5        0.33333333]\n",
      " [0.25       0.2        0.16666667]]\n",
      "------------------------------------------------------------\n",
      "[[ True False  True]\n",
      " [False  True False]]\n"
     ]
    }
   ],
   "source": [
    "\"\"\"\n",
    "np.array 의 중요 특징\n",
    "for 문을 사용하지 않고 데이터를 일괄 처리할 수 있다.\n",
    "-> 벡터화 라고 한다.\n",
    "\n",
    "같은 크기의 배열 간의 산술연산은 배열의 각 원소 단위로 적용된다.\n",
    "\"\"\"\n",
    "\n",
    "arr = np.array([[1., 2., 3.],[4.,5.,6.]])\n",
    "\n",
    "print(arr)\n",
    "\n",
    "print('---'* 20)\n",
    "print(arr * arr)\n",
    "\n",
    "print('---'* 20)\n",
    "print(arr + arr)\n",
    "\n",
    "print('---'* 20)\n",
    "print(arr - arr)\n",
    "\n",
    "\"\"\"\n",
    "스칼라 인자가 포함된 산술 연산의 경우 배열내의 모든 원소에 스칼라인자가 적용된다.\n",
    "\"\"\"\n",
    "print('---'* 20)\n",
    "print(1/arr)\n",
    "\n",
    "\"\"\"\n",
    "같은 크기를 가지는 배열간의 배교연산은 불리언 배열을 반환한다.\n",
    "\"\"\"\n",
    "\n",
    "arr2 = np.array([[0.,4.,1.], [7.,2.,12.]])\n",
    "print('---'* 20)\n",
    "print( arr > arr2)\n"
   ]
  },
  {
   "cell_type": "code",
   "execution_count": null,
   "metadata": {},
   "outputs": [],
   "source": []
  }
 ],
 "metadata": {
  "kernelspec": {
   "display_name": "Python 3",
   "language": "python",
   "name": "python3"
  },
  "language_info": {
   "codemirror_mode": {
    "name": "ipython",
    "version": 3
   },
   "file_extension": ".py",
   "mimetype": "text/x-python",
   "name": "python",
   "nbconvert_exporter": "python",
   "pygments_lexer": "ipython3",
   "version": "3.7.6"
  }
 },
 "nbformat": 4,
 "nbformat_minor": 4
}
